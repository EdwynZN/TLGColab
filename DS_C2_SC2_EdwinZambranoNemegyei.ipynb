{
  "nbformat": 4,
  "nbformat_minor": 0,
  "metadata": {
    "colab": {
      "provenance": [],
      "include_colab_link": true
    },
    "kernelspec": {
      "name": "python3",
      "display_name": "Python 3"
    },
    "language_info": {
      "name": "python"
    }
  },
  "cells": [
    {
      "cell_type": "markdown",
      "metadata": {
        "id": "view-in-github",
        "colab_type": "text"
      },
      "source": [
        "<a href=\"https://colab.research.google.com/github/EdwynZN/TLGColab/blob/main/DS_C2_SC2_EdwinZambranoNemegyei.ipynb\" target=\"_parent\"><img src=\"https://colab.research.google.com/assets/colab-badge.svg\" alt=\"Open In Colab\"/></a>"
      ]
    },
    {
      "cell_type": "code",
      "execution_count": 3,
      "metadata": {
        "id": "RuyyCX-RqjJG"
      },
      "outputs": [],
      "source": [
        "import pandas as pd\n",
        "import os\n",
        "\n",
        "def sumVaccinesRow(row) -> pd.Series:\n",
        "    return row['daily_vaccinations'] * len(row['vaccines'].split(','))\n",
        "\n",
        "def vaccinesSpecificDate(dataframe: pd.DataFrame, date: pd.Timestamp) -> int:\n",
        "    filter = dataframe[dataframe['date'] == date]\n",
        "    return filter.apply(sumVaccinesRow, axis=1).sum()\n",
        "\n",
        "def deltaTime(dataframe: pd.DataFrame, dateName: str) -> pd.Timedelta:\n",
        "    firstDay = dataframe[dateName].min()\n",
        "    lastDay = dataframe[dateName].max()\n",
        "    return lastDay - firstDay\n",
        "\n",
        "def dataFrameBeforeDate(dataframe: pd.DataFrame, dateName: str, date: pd.Timestamp) -> pd.DataFrame:\n",
        "    return dataframe.loc[dataframe[dateName] < str(date)]\n",
        "\n",
        "def dataFrameOfManufacturer(dataframe: pd.DataFrame, columnName: str, manufacturer: str) -> pd.DataFrame:\n",
        "    return dataframe.loc[dataframe[columnName].str.contains(manufacturer, case=False)]\n",
        "\n",
        "def excelWriter(path: str) -> pd.ExcelWriter:\n",
        "    if os.path.exists(path):\n",
        "        return pd.ExcelWriter(path, if_sheet_exists='replace', mode='a')\n",
        "    else:\n",
        "        return pd.ExcelWriter(path)\n",
        "\n",
        "# A. Extraer información del csv\n",
        "vaccines = pd.read_csv('country_vaccinations.csv', parse_dates=['date'])\n",
        "\n",
        "# B. Estructura y tipo de datos\n",
        "print('tipo de datos de vacunas:', vaccines.dtypes, sep='\\n')\n",
        "\n",
        "# C. Vacunas aplicadas por compañía\n",
        "manufacturerDataFrame = vaccines.vaccines.str.get_dummies(', ').multiply(vaccines.daily_vaccinations, 0).sum()\n",
        "print('Vacunas aplicadas por compañia:', manufacturerDataFrame, sep='\\n')\n",
        "\n",
        "# D. Vacunas aplicadas en todo el mundo\n",
        "print('Vacunas aplicadas en todo el mundo: ', vaccines.apply(sumVaccinesRow, axis=1).sum())\n",
        "\n",
        "# E. Promedio de vacunas por país\n",
        "meanCountry = vaccines.loc[:, ['country', 'daily_vaccinations', 'vaccines']]\n",
        "meanCountry['daily_vaccinations'] = meanCountry.apply(sumVaccinesRow, axis=1)\n",
        "meanCountry = meanCountry[['country', 'daily_vaccinations']].groupby('country').mean()\n",
        "print('Promedio de vacunados por país', meanCountry.head(8), sep='\\n')\n",
        "\n",
        "# F. Determinar la cantidad de vacunas aplicadas el día 29/01/2021 en todo el mundo.\n",
        "vaccinesInADay = vaccinesSpecificDate(vaccines, pd.to_datetime('29/01/21', dayfirst=True))\n",
        "print('Vacunas aplicadas en todo el mundo el día 29/01/2021: ', vaccinesInADay)\n",
        "\n",
        "# G. Diferencias de aplicación entre las columnas daily_vaccinations y daily_vaccinations_raw.  \n",
        "conDiferencias = vaccines.copy()\n",
        "conDiferencias['diffDaily'] = conDiferencias['daily_vaccinations'].fillna(0) - conDiferencias['daily_vaccinations_raw'].fillna(0)\n",
        "print('Diferencias entre las vacunas diarias y el dato en crudo', conDiferencias['diffDaily'], sep='\\n')\n",
        "\n",
        "# H. Obtener el período de tiempo entre el registro con fecha más reciente y el registro con fecha más antigua.\n",
        "period = deltaTime(vaccines, 'date')\n",
        "print('Periodo de tiempo en días: ', period.days)\n",
        "\n",
        "# I. Cantidad de vacunas utilizadas cada día\n",
        "conCantidad = vaccines.copy()\n",
        "conCantidad['canVac'] = conDiferencias['daily_vaccinations'] * conDiferencias['vaccines'].str.split(',').str.len()\n",
        "print('Vacunas aplicadas en todo el mundo: ', conCantidad[['country', 'date', 'canVac']].head(10), sep='\\n')\n",
        "\n",
        "# J. DataFrame con todos los registros que se hayan realizado antes del 20 de diciembre de 2020\n",
        "antes20 = dataFrameBeforeDate(vaccines, 'date', pd.to_datetime('20/12/20', dayfirst=True))\n",
        "print('Vacunas aplicadas antes del 20 de diciembre del 2020', antes20.tail(10), sep='\\n')\n",
        "\n",
        "# K. DataFrame con todos los registros donde se haya utilizado la vacuna Pfizer\n",
        "pfizer = dataFrameOfManufacturer(vaccines, 'vaccines', 'Pfizer')\n",
        "print('Registro de vacunas Pfizer', pfizer.tail(10), sep='\\n')\n",
        "\n",
        "# L. Guardar nuevos DataFrames.\n",
        "fileName = 'sample_data/resultadosReto.xlsx'\n",
        "with excelWriter(fileName) as writer:\n",
        "    conDiferencias.to_excel(writer, sheet_name=\"conDiferencias\")\n",
        "    conCantidad.to_excel(writer, sheet_name=\"conCantidad\")\n",
        "    antes20.to_excel(writer, sheet_name=\"antes20\")\n",
        "    pfizer.to_excel(writer, sheet_name=\"pfizer\")"
      ]
    },
    {
      "cell_type": "code",
      "source": [],
      "metadata": {
        "id": "lkKkQNzTtf7l"
      },
      "execution_count": null,
      "outputs": []
    }
  ]
}