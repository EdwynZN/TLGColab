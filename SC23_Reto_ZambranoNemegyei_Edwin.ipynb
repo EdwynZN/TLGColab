{
  "nbformat": 4,
  "nbformat_minor": 0,
  "metadata": {
    "colab": {
      "provenance": [],
      "mount_file_id": "1e0SyS9c6Jkv3NMRH8BolvwgzCFrYK4jo",
      "authorship_tag": "ABX9TyOat+GRN97FWLZQZnlY/zeZ",
      "include_colab_link": true
    },
    "kernelspec": {
      "name": "python3",
      "display_name": "Python 3"
    },
    "language_info": {
      "name": "python"
    }
  },
  "cells": [
    {
      "cell_type": "markdown",
      "metadata": {
        "id": "view-in-github",
        "colab_type": "text"
      },
      "source": [
        "<a href=\"https://colab.research.google.com/github/EdwynZN/TLGColab/blob/main/SC23_Reto_ZambranoNemegyei_Edwin.ipynb\" target=\"_parent\"><img src=\"https://colab.research.google.com/assets/colab-badge.svg\" alt=\"Open In Colab\"/></a>"
      ]
    },
    {
      "cell_type": "code",
      "execution_count": 3,
      "metadata": {
        "colab": {
          "base_uri": "https://localhost:8080/"
        },
        "id": "x7eKITv9anky",
        "outputId": "b3d87805-ac01-4fb0-8b1c-684b1d567e8c"
      },
      "outputs": [
        {
          "output_type": "stream",
          "name": "stdout",
          "text": [
            "N° de filas 10000\n",
            "computer OS\n",
            "     Computer_OS  Total  Porcentaje\n",
            "0          Linux    480        4.80\n",
            "1          MacOS   1634       16.34\n",
            "2  No registrado    158        1.58\n",
            "3        Windows   7728       77.28\n",
            "Mobile OS\n",
            "       Mobile_OS  Total  Porcentaje\n",
            "0        Android   7659       76.59\n",
            "1  No registrado    287        2.87\n",
            "2            iOS   2054       20.54\n",
            "Edades promedio:\n",
            "     Computer_OS  Edad_Promedio\n",
            "0          Linux             40\n",
            "1          MacOS             40\n",
            "2  No registrado             40\n",
            "3        Windows             39\n",
            "Nivel educativo promedio:\n",
            "     Computer_OS  Nivel_Educativo_Promedio\n",
            "0          Linux                   3.24375\n",
            "1          MacOS                  3.168299\n",
            "2  No registrado                  3.177215\n",
            "3        Windows                  3.203675\n",
            "N° total de tickets:\n",
            "     Computer_OS  Tickets_Generados\n",
            "0          Linux                254\n",
            "1          MacOS               1880\n",
            "2  No registrado                541\n",
            "3        Windows              21169\n"
          ]
        }
      ],
      "source": [
        "import pandas as pd\n",
        "import os\n",
        "\n",
        "def flatMultiIndex(data: pd.DataFrame) -> pd.DataFrame:\n",
        "    data.columns = data.columns.get_level_values(1)\n",
        "    return data.reset_index()\n",
        "\n",
        "def excelWriter(path: str) -> pd.ExcelWriter:\n",
        "    if os.path.exists(path):\n",
        "        return pd.ExcelWriter(path, if_sheet_exists='replace', mode='a')\n",
        "    else:\n",
        "        return pd.ExcelWriter(path)\n",
        "\n",
        "# Get only relevant columns\n",
        "employeeR1 = pd.read_csv('sample_data/SC23_data/test.csv', usecols=['Employee_ID', 'Age', 'Education_Level'], dtype={'Age': 'Int64', 'Education_Level' : 'Int64'})\n",
        "employeeR2 = pd.read_csv('sample_data/SC23_data/train.csv', usecols=['Employee_ID', 'Age', 'Education_Level'], dtype={'Age': 'Int64', 'Education_Level' : 'Int64'})\n",
        "deviceR1 = pd.read_csv('sample_data/SC23_data/test2.csv', sep='\\s*,\\s*', engine='python')\n",
        "deviceR2 = pd.read_csv('sample_data/SC23_data/train2.csv', sep='\\s*,\\s*', engine='python')\n",
        "\n",
        "employees = pd.concat([employeeR1, employeeR2], ignore_index=True)\n",
        "devices = pd.concat([deviceR1, deviceR2], ignore_index=True)\n",
        "\n",
        "singleDF = pd.merge(employees, devices, on='Employee_ID')\n",
        "# Get only relevant columns\n",
        "col = ['Computer_OS', 'Computer_OS_version', 'Mobile_OS', 'Mobile_OS_version']\n",
        "singleDF[col] = singleDF.loc[:, col].fillna('No registrado')\n",
        "\n",
        "# Total numbers of rows\n",
        "count = singleDF.shape[0]\n",
        "print('N° de filas', count)\n",
        "\n",
        "groupOS = singleDF.groupby('Computer_OS')\n",
        "groupMobileOS = singleDF.groupby('Mobile_OS')\n",
        "\n",
        "# Porcentaje de personas que usan cada sistema operativo en su computadora\n",
        "computerDF = groupOS.agg({'Computer_OS': ['count']})\n",
        "computerDF = flatMultiIndex(computerDF)\n",
        "computerDF.rename(columns = {'count':'Total'}, inplace = True)\n",
        "computerDF['Porcentaje'] = computerDF.Total * 100.0 / count\n",
        "print('computer OS', computerDF, sep='\\n')\n",
        "\n",
        "# Porcentaje de personas que usan cada sistema operativo en su dispositivo móvil\n",
        "mobileDF = groupMobileOS.agg({'Mobile_OS': ['count']})\n",
        "mobileDF = flatMultiIndex(mobileDF)\n",
        "mobileDF.rename(columns = {'count':'Total'}, inplace = True)\n",
        "mobileDF['Porcentaje'] = mobileDF.Total * 100.0 / count\n",
        "print('Mobile OS', mobileDF, sep='\\n')\n",
        "\n",
        "# Edad promedio (suma de todas las edades de cada grupo / el total de personas)\n",
        "ageDF = groupOS.agg({'Age': ['mean']})\n",
        "ageDF = flatMultiIndex(ageDF)\n",
        "ageDF.rename(columns = {'mean':'Edad_Promedio'}, inplace = True)\n",
        "# No existen edades con decimales, truncando para entender mejor al momento de leer\n",
        "ageDF['Edad_Promedio'] = ageDF['Edad_Promedio'].astype('Int64')\n",
        "print('Edades promedio:', ageDF, sep='\\n')\n",
        "\n",
        "# Nivel educativo promedio de la gente que utiliza cada sistema operativo\n",
        "educationLevelDF = groupOS.agg({'Education_Level': ['mean']})\n",
        "educationLevelDF = flatMultiIndex(educationLevelDF)\n",
        "educationLevelDF.rename(columns = {'mean':'Nivel_Educativo_Promedio'}, inplace = True)\n",
        "print('Nivel educativo promedio:', educationLevelDF, sep='\\n')\n",
        "\n",
        "# N° total de tickets generados por la gente en cada sistema operativo\n",
        "computerTicketsDF = groupOS.agg({'Computer_tickets': ['sum']})\n",
        "computerTicketsDF = flatMultiIndex(computerTicketsDF)\n",
        "computerTicketsDF.rename(columns = {'sum':'Tickets_Generados'}, inplace = True)\n",
        "print('N° total de tickets:', computerTicketsDF, sep='\\n')\n",
        "\n",
        "# Guardar nuevos DataFrames.\n",
        "fileName = 'sample_data/SC23_data/SC23_Reto_ZambranoNemegyei_Edwin.xlsx'\n",
        "with excelWriter(fileName) as writer:\n",
        "    singleDF.to_excel(writer, sheet_name=\"Base de datos\")\n",
        "    computerDF.to_excel(writer, sheet_name=\"Computer_OS_Percent\")\n",
        "    mobileDF.to_excel(writer, sheet_name=\"Mobile_OS_Percent\")\n",
        "    ageDF.to_excel(writer, sheet_name=\"Computer_OS_Mean_Age\")\n",
        "    educationLevelDF.to_excel(writer, sheet_name=\"Computer_OS_Education_Level\")\n",
        "    computerTicketsDF.to_excel(writer, sheet_name=\"Computer_OS_Total_Tickets\")\n"
      ]
    }
  ]
}